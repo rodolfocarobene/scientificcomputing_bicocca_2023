{
 "cells": [
  {
   "cell_type": "markdown",
   "metadata": {},
   "source": [
    "# Code development: pytest and pip\n",
    "\n",
    "*Davide Gerosa (Milano-Bicocca)*\n",
    "\n",
    "**Sources**: Michael Zingale at Stony Brook University: https://sbu-python-class.github.io"
   ]
  },
  {
   "cell_type": "markdown",
   "metadata": {},
   "source": [
    "## Modern workflow\n",
    "\n",
    "Modern code tested is collaborative and automated. Say you found a bug in numpy and want to fix it. You can only pull request to their git repo only if your patch passes a whole suite of tests.\n",
    "\n",
    "That's for big things, but I argue having some basic unit tests is important for every code, even your little PhD project (and well... if you end up having a pull request merged into numpy, that should go straight into your CV!!!)\n",
    "\n",
    "\n",
    "## Other types of tests\n",
    "\n",
    "Unit tests are only one form of testing - they test a function in\n",
    "isolation of others.  Sometimes we need to test everything working together.\n",
    "For scientific codes, regression testing is often used.  The basic workflow\n",
    "is:\n",
    "\n",
    "* Start with the project working in a way you are happy with\n",
    "\n",
    "* Store the output of one (or more) runs as a _benchmark_.\n",
    "\n",
    "* Each time you make changes, run the code and compare the new output\n",
    "  to the stored benchmark.\n",
    "\n",
    "  * If there are no differences, then your changes are likely good\n",
    "    (but there is always the case of some feature not being tested).\n",
    "\n",
    "  * If there are differences, then either you introduced a bug, in which\n",
    "    case you should fix it, or you fixed a bug, in which case you should\n",
    "    update the benchmarks.\n"
   ]
  },
  {
   "cell_type": "markdown",
   "metadata": {},
   "source": [
    "# Exercise\n",
    "\n",
    "For the exams work on at least two of the these three exercises\n",
    "\n",
    "## Q1: I love pip \n",
    "\n",
    "- Take a piece of python code you wrote (for instance pick one of the exercises you've done for this class). \n",
    "- Turn it into a module\n",
    "- Install it locally\n",
    "- Deploy on pypi (only using the test-pypi server!)\n",
    "\n",
    "<div class=\"alert alert-block alert-warning\">\n",
    "<span class=\"fa fa-flash\"></span> VERY IMPORTANT\n",
    "    \n",
    "Both the pypi and test-pypi server are public on the web! Don't compromise your research by putting up something your competitors can use and steal your idea before you've published a paper on it!!! \n",
    "\n",
    "</div>\n"
   ]
  },
  {
   "cell_type": "code",
   "execution_count": null,
   "metadata": {
    "scrolled": true
   },
   "outputs": [],
   "source": [
    "!pip install -i https://test.pypi.org/simple/ mymodulerodolfo --no-deps"
   ]
  },
  {
   "cell_type": "markdown",
   "metadata": {},
   "source": [
    "## Q2: My own test\n",
    "\n",
    "- Pick a piece of python code that you like (your own PhD project, or take one of the exercises from this class). Implement a unit test and a regression test. \n",
    "- Put it under git version control, and write a github action that runs the tests at every commit.\n",
    "- Edit the github options to make sure the code *cannot* be committed if the tests fail (that's a common thing for big projects with many collaborations, nobody is allowed to break the code)\n",
    "\n"
   ]
  }
 ],
 "metadata": {
  "kernelspec": {
   "display_name": "Python 3 (ipykernel)",
   "language": "python",
   "name": "python3"
  },
  "language_info": {
   "codemirror_mode": {
    "name": "ipython",
    "version": 3
   },
   "file_extension": ".py",
   "mimetype": "text/x-python",
   "name": "python",
   "nbconvert_exporter": "python",
   "pygments_lexer": "ipython3",
   "version": "3.11.5"
  }
 },
 "nbformat": 4,
 "nbformat_minor": 4
}
