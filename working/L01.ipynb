{
 "cells": [
  {
   "cell_type": "markdown",
   "id": "368f7f18-1b23-486a-ab15-73fd3862e27f",
   "metadata": {},
   "source": [
    "# Exercises\n",
    "\n",
    "Work on those you like the most. For the exam, preparing 2 of these is enough (or 3 if you pick those that are very short)."
   ]
  },
  {
   "cell_type": "markdown",
   "id": "83e1bb68-891c-4af1-8660-b22e94b629fe",
   "metadata": {},
   "source": [
    "## Q1: Machine precision\n",
    "\n",
    "When talking about floating point, we discussed _machine epsilon_, $\\epsilon$&mdash;this is the smallest number that when added to 1 is still different from 1.\n",
    "\n",
    "We'll compute $\\epsilon$ here:\n",
    "\n",
    "  * Pick an initial guess for $\\epsilon$ of `eps = 1`.  \n",
    "\n",
    "  * Create a loop that checks whether `1 + eps` is different from `1`\n",
    "  \n",
    "  * Each loop iteration, cut the value of `eps` in half\n",
    "  \n",
    "What value of $\\epsilon$ do you find?"
   ]
  },
  {
   "cell_type": "code",
   "execution_count": 1,
   "id": "f32de077-aca6-4942-a840-fb98f5a36cae",
   "metadata": {},
   "outputs": [
    {
     "name": "stdout",
     "output_type": "stream",
     "text": [
      "Final value of ϵ: 1.1102230246251565e-16\n"
     ]
    }
   ],
   "source": [
    "eps = 1\n",
    "while 1 + eps != 1:\n",
    "    eps /= 2\n",
    "\n",
    "print(f\"Final value of ϵ: {eps}\")"
   ]
  },
  {
   "cell_type": "markdown",
   "id": "61020540-239f-4406-aa09-d103824a449e",
   "metadata": {},
   "source": [
    "## Q2: Iterations\n",
    "\n",
    "### Part 1\n",
    "\n",
    "To iterate over the tuples, where the _i_-th tuple contains the _i_-th elements of certain sequences, we can use `zip(*sequences)` function.\n",
    "\n",
    "We will iterate over two lists, `names` and `age`, and print out the resulting tuples.\n",
    "\n",
    "  * Start by initializing lists `names = [\"Mary\", \"John\", \"Sarah\"]` and `age = [21, 56, 98]`.\n",
    "  \n",
    "  * Iterate over the tuples containing a name and an age, the `zip(list1, list2)` function might be useful here.\n",
    "  \n",
    "  * Print out formatted strings of the type \"*NAME is AGE years old*\"."
   ]
  },
  {
   "cell_type": "code",
   "execution_count": 2,
   "id": "05971075-1279-4bf1-af41-d334c0afe7ef",
   "metadata": {},
   "outputs": [
    {
     "name": "stdout",
     "output_type": "stream",
     "text": [
      "Mary is 21 years old\n",
      "John is 56 years old\n",
      "Sarah is 98 years old\n"
     ]
    }
   ],
   "source": [
    "names = [\"Mary\", \"John\", \"Sarah\"]\n",
    "ages = [21, 56, 98]\n",
    "\n",
    "for name, age in zip(names, ages):\n",
    "    print(f\"{name} is {age} years old\")"
   ]
  },
  {
   "cell_type": "markdown",
   "id": "3a8a2ce0-004e-4adb-912a-2af5661052d0",
   "metadata": {},
   "source": [
    "### Part 2\n",
    "\n",
    "The function `enumerate(sequence)` returns tuples containing indices of objects in the sequence, and the objects. \n",
    "\n",
    "The `random` module provides tools for working with the random numbers. In particular, `random.randint(start, end)` generates a random number not smaller than `start`, and not bigger than `end`.\n",
    "\n",
    "  * Generate a list of 10 random numbers from 0 to 9.\n",
    "  \n",
    "  * Using the `enumerate(random_list)` function, iterate over the tuples of random numbers and their indices, and print out *\"Match: NUMBER and INDEX\"* if the random number and its index in the list match."
   ]
  },
  {
   "cell_type": "code",
   "execution_count": 3,
   "id": "c4098dd9-f6ba-4a5d-85a3-cdf6a7a1c852",
   "metadata": {},
   "outputs": [
    {
     "name": "stdout",
     "output_type": "stream",
     "text": [
      "Match: 0 and 0\n",
      "Match: 4 and 4\n"
     ]
    }
   ],
   "source": [
    "import random\n",
    "\n",
    "random_list = [random.randint(0, 9) for _ in range(10)]\n",
    "\n",
    "for idx, number in enumerate(random_list):\n",
    "    if number == idx:\n",
    "        print(f\"Match: {number} and {idx}\")"
   ]
  },
  {
   "cell_type": "markdown",
   "id": "13792324-03a5-45fd-981b-6d639da69a84",
   "metadata": {},
   "source": [
    "## Q3: Books\n",
    "\n",
    "Here is a list of book titles (from http://thegreatestbooks.org).  Loop through the list and capitalize each word in each title. "
   ]
  },
  {
   "cell_type": "code",
   "execution_count": 4,
   "id": "b56151d3-0d52-4713-9363-533b439fc559",
   "metadata": {},
   "outputs": [
    {
     "data": {
      "text/plain": [
       "['Don Quixote',\n",
       " 'In Search Of Lost Time',\n",
       " 'Ulysses',\n",
       " 'The Odyssey',\n",
       " 'War And Piece',\n",
       " 'Moby Dick',\n",
       " 'The Divine Comedy',\n",
       " 'Hamlet',\n",
       " 'The Adventures Of Huckleberry Finn',\n",
       " 'The Great Gatsby']"
      ]
     },
     "execution_count": 4,
     "metadata": {},
     "output_type": "execute_result"
    }
   ],
   "source": [
    "titles = [\"don quixote\", \n",
    "          \"in search of lost time\", \n",
    "          \"ulysses\", \n",
    "          \"the odyssey\", \n",
    "          \"war and piece\", \n",
    "          \"moby dick\", \n",
    "          \"the divine comedy\", \n",
    "          \"hamlet\", \n",
    "          \"the adventures of huckleberry finn\", \n",
    "          \"the great gatsby\"]\n",
    "\n",
    "cap_titles = [title.title() for title in titles]\n",
    "cap_titles"
   ]
  },
  {
   "cell_type": "markdown",
   "id": "66bbe5e3-9bea-465f-a166-95a79624cbac",
   "metadata": {},
   "source": [
    "## Q4: Word counts\n",
    "\n",
    "Here's some text (the Gettysburg Address).  Our goal is to count how many times each word repeats.  We'll do a brute force method first, and then we'll look a ways to do it more efficiently (and compactly)."
   ]
  },
  {
   "cell_type": "code",
   "execution_count": 5,
   "id": "0c8eef7b-df6d-4326-81c3-8036639113c1",
   "metadata": {},
   "outputs": [],
   "source": [
    "gettysburg_address = \"\"\"\n",
    "Four score and seven years ago our fathers brought forth on this continent, \n",
    "a new nation, conceived in Liberty, and dedicated to the proposition that \n",
    "all men are created equal.\n",
    "\n",
    "Now we are engaged in a great civil war, testing whether that nation, or \n",
    "any nation so conceived and so dedicated, can long endure. We are met on\n",
    "a great battle-field of that war. We have come to dedicate a portion of\n",
    "that field, as a final resting place for those who here gave their lives\n",
    "that that nation might live. It is altogether fitting and proper that we\n",
    "should do this.\n",
    "\n",
    "But, in a larger sense, we can not dedicate -- we can not consecrate -- we\n",
    "can not hallow -- this ground. The brave men, living and dead, who struggled\n",
    "here, have consecrated it, far above our poor power to add or detract.  The\n",
    "world will little note, nor long remember what we say here, but it can never\n",
    "forget what they did here. It is for us the living, rather, to be dedicated\n",
    "here to the unfinished work which they who fought here have thus far so nobly\n",
    "advanced. It is rather for us to be here dedicated to the great task remaining\n",
    "before us -- that from these honored dead we take increased devotion to that\n",
    "cause for which they gave the last full measure of devotion -- that we here\n",
    "highly resolve that these dead shall not have died in vain -- that this\n",
    "nation, under God, shall have a new birth of freedom -- and that government\n",
    "of the people, by the people, for the people, shall not perish from the earth.\n",
    "\"\"\""
   ]
  },
  {
   "cell_type": "code",
   "execution_count": null,
   "id": "aa858005-34aa-4520-8680-51a41d68cc14",
   "metadata": {},
   "outputs": [],
   "source": []
  },
  {
   "cell_type": "code",
   "execution_count": 6,
   "id": "1df05c1f-325d-4c7d-99f4-ffd782d75d0b",
   "metadata": {},
   "outputs": [
    {
     "name": "stdout",
     "output_type": "stream",
     "text": [
      "Head of dictionary: {'four': 1, 'score': 1, 'and': 6, 'seven': 1, 'years': 1}\n"
     ]
    }
   ],
   "source": [
    "lower = gettysburg_address.lower()\n",
    "for s in (\",\", \".\", \"--\"):\n",
    "    lower = lower.replace(s, \"\")\n",
    "\n",
    "lower = lower.split()\n",
    "\n",
    "my_dict = {}\n",
    "for word in lower:\n",
    "    if word in my_dict:\n",
    "        my_dict[word] += 1\n",
    "    else:\n",
    "        my_dict[word] = 1\n",
    "\n",
    "print(f\"Head of dictionary: {dict(list(my_dict.items())[0:5])}\")"
   ]
  },
  {
   "cell_type": "markdown",
   "id": "5b6c8f2f-cb48-4499-91bf-5f42b4527295",
   "metadata": {},
   "source": [
    "## Q5: Foxes and dogs\n",
    "\n",
    "### Part 1. Short words\n",
    "\n",
    "Let's practice functions.  Here's a simple function that takes a string and returns a list of all the 4 letter words:"
   ]
  },
  {
   "cell_type": "code",
   "execution_count": 7,
   "id": "b35d3f74-1877-4fe4-8cdd-82a1134826ee",
   "metadata": {},
   "outputs": [
    {
     "name": "stdout",
     "output_type": "stream",
     "text": [
      "['over', 'lazy']\n"
     ]
    }
   ],
   "source": [
    "def four_letter_words(message):\n",
    "    words = message.split()\n",
    "    four_letters = [w for w in words if len(w) == 4]\n",
    "    return four_letters\n",
    "\n",
    "message = \"The quick brown fox jumps over the lazy dog\"\n",
    "print(four_letter_words(message))"
   ]
  },
  {
   "cell_type": "markdown",
   "id": "1752f0f6-412a-4ba9-8795-7bd41aea740d",
   "metadata": {},
   "source": [
    "Write a version of this function that takes a second argument, n, that is the word length we want to search for"
   ]
  },
  {
   "cell_type": "code",
   "execution_count": 8,
   "id": "f25e85b7-4303-4d23-9a22-2e978c10e15f",
   "metadata": {},
   "outputs": [
    {
     "name": "stdout",
     "output_type": "stream",
     "text": [
      "['over', 'lazy']\n",
      "['The', 'fox', 'the', 'dog']\n"
     ]
    }
   ],
   "source": [
    "def n_letter_words(message, n):\n",
    "    return [w for w in message.split() if len(w) == n]\n",
    "\n",
    "print(n_letter_words(message, 4))\n",
    "print(n_letter_words(message, 3))"
   ]
  },
  {
   "cell_type": "markdown",
   "id": "65d36465-816b-4ef9-b684-258a8319d607",
   "metadata": {},
   "source": [
    "### Part 2: Panagrams\n",
    "\n",
    "A _panagram_ is a sentence that includes all 26 letters of the alphabet, e.g., \"_The quick brown fox jumps over the lazy dog_.\"\n",
    "\n",
    "Write a function that takes as an argument a sentence and returns `True` or `False`, indicating whether the sentence is a panagram."
   ]
  },
  {
   "cell_type": "code",
   "execution_count": 9,
   "id": "b16389db-387c-44ce-8453-d9813ec09bd3",
   "metadata": {},
   "outputs": [
    {
     "data": {
      "text/plain": [
       "True"
      ]
     },
     "execution_count": 9,
     "metadata": {},
     "output_type": "execute_result"
    }
   ],
   "source": [
    "def is_panagram(word):\n",
    "    alphabet = \"abcdefghijklmnopqrstuvwxyz\"\n",
    "    for char in alphabet:\n",
    "        if char not in word:\n",
    "            return False\n",
    "    return True\n",
    "\n",
    "is_panagram(message)"
   ]
  },
  {
   "cell_type": "markdown",
   "id": "e2911bba-4ffe-449d-8bf1-b6dc79cfcdf7",
   "metadata": {},
   "source": [
    "## Q6: Catch errors\n",
    "\n",
    "### Your task\n",
    "\n",
    "Write a function, `convert_type(a)` that takes a string `a`, and converts it to a float if it is a number with a decimal point, an int if it is an integer, or leaves it as a string otherwise, and returns the result.  You'll want to use exceptions to prevent the code from aborting."
   ]
  },
  {
   "cell_type": "code",
   "execution_count": 10,
   "id": "3e91109e-ee48-48ad-a349-8c1e11c8c68b",
   "metadata": {},
   "outputs": [],
   "source": [
    "def convert_type(a):\n",
    "    try:\n",
    "        if \".\" in a:\n",
    "            return float(a)\n",
    "        return int(a)\n",
    "    except:\n",
    "        return a"
   ]
  },
  {
   "cell_type": "code",
   "execution_count": 11,
   "id": "d13caac7-0393-41c7-bf86-7c2a7eea7991",
   "metadata": {},
   "outputs": [
    {
     "data": {
      "text/plain": [
       "float"
      ]
     },
     "execution_count": 11,
     "metadata": {},
     "output_type": "execute_result"
    }
   ],
   "source": [
    "type(convert_type(\"2.\"))"
   ]
  },
  {
   "cell_type": "markdown",
   "id": "e0506540-6809-4ad7-a132-331bea935b63",
   "metadata": {},
   "source": [
    "## Q7: Tic-tac-toe\n",
    "\n",
    "Here we'll write a simple tic-tac-toe game that 2 players can play.  First we'll create a string that represents our game board:"
   ]
  },
  {
   "cell_type": "code",
   "execution_count": 12,
   "id": "a687d9af-49fc-4926-9bfa-736797883068",
   "metadata": {},
   "outputs": [],
   "source": [
    "board = \"\"\"\n",
    " {s1:^3} | {s2:^3} | {s3:^3}\n",
    "-----+-----+-----\n",
    " {s4:^3} | {s5:^3} | {s6:^3}\n",
    "-----+-----+-----      123\n",
    " {s7:^3} | {s8:^3} | {s9:^3}       456\n",
    "                       789  \n",
    "\"\"\"\n",
    "play = {}\n",
    "\n",
    "def initialize_board(play):\n",
    "    for n in range(9):\n",
    "        play[\"s{}\".format(n+1)] = \"\"\n",
    "\n",
    "initialize_board(play)\n",
    "def show_board(play):\n",
    "    \"\"\" display the playing board.  We take a dictionary with the current state of the board\n",
    "    We rely on the board string to be a global variable\"\"\"\n",
    "    print(board.format(**play))\n",
    "    \n",
    "def get_move(n, xo, play):\n",
    "    \"\"\" ask the current player, n, to make a move -- make sure the square was not \n",
    "        already played.  xo is a string of the character (x or o) we will place in\n",
    "        the desired square \"\"\"\n",
    "    valid_move = False\n",
    "    while not valid_move:\n",
    "        idx = input(\"player {}, enter your move (1-9)\".format(n))\n",
    "        if play[\"s{}\".format(idx)] == \"\":\n",
    "            valid_move = True\n",
    "        else:\n",
    "            print(\"invalid: {}\".format(play[\"s{}\".format(idx)]))\n",
    "            \n",
    "    play[\"s{}\".format(idx)] = xo"
   ]
  },
  {
   "cell_type": "markdown",
   "id": "80d13d33-568b-4d53-9e08-af1e51b2bdc4",
   "metadata": {},
   "source": [
    "### Your task\n",
    "\n",
    "Using the functions defined above,\n",
    "  * `initialize_board()`\n",
    "  * `show_board()`\n",
    "  * `get_move()`\n",
    "\n",
    "fill in the function `play_game()` below to complete the game, asking for the moves one at a time, alternating between player 1 and 2"
   ]
  },
  {
   "cell_type": "code",
   "execution_count": 14,
   "id": "5b41b594-4667-41f8-bf1c-b07b3fa880da",
   "metadata": {},
   "outputs": [],
   "source": [
    "def check_win(play):\n",
    "    win_strings = (\n",
    "        [1, 2, 3], \n",
    "        [4, 5, 6], \n",
    "        [7, 8, 9], \n",
    "        [1, 4, 7], \n",
    "        [2, 5, 8], \n",
    "        [3, 6, 9], \n",
    "        [1, 5, 9], \n",
    "        [7, 5, 3])\n",
    "    \n",
    "    for win_opt in win_strings:\n",
    "        triple = [play[f\"s{i}\"] for i in win_opt]       \n",
    "        if triple.count(\"x\") == 3 or triple.count(\"o\") == 3:\n",
    "            print(\"Game won!\")\n",
    "            return True\n",
    "    return False"
   ]
  },
  {
   "cell_type": "code",
   "execution_count": 15,
   "id": "f50a8b56-21e8-47ab-bc8c-da755162aaff",
   "metadata": {},
   "outputs": [],
   "source": [
    "from IPython.display import clear_output\n",
    "\n",
    "def play_game():\n",
    "    \"\"\" play a game of tic-tac-toe \"\"\"\n",
    "    \n",
    "    play ={}\n",
    "    initialize_board(play)\n",
    "    show_board(play)\n",
    "\n",
    "    cond = False\n",
    "    while not cond:\n",
    "        for idx, sign in zip((0, 1), (\"x\", \"o\")):\n",
    "            get_move(idx, sign, play)\n",
    "            clear_output()\n",
    "            show_board(play)\n",
    "        \n",
    "            cond = check_win(play)\n",
    "            if cond:\n",
    "                break"
   ]
  },
  {
   "cell_type": "code",
   "execution_count": 16,
   "id": "379cb502-24bb-48df-9f69-7406ebd4d4f7",
   "metadata": {},
   "outputs": [
    {
     "name": "stdout",
     "output_type": "stream",
     "text": [
      "\n",
      "  x  |  x  |  x \n",
      "-----+-----+-----\n",
      "  o  |     |  o \n",
      "-----+-----+-----      123\n",
      "     |     |           456\n",
      "                       789  \n",
      "\n",
      "Game won!\n"
     ]
    }
   ],
   "source": [
    "play_game()"
   ]
  },
  {
   "cell_type": "markdown",
   "id": "cb6b9309-8ed9-4826-b5ad-18cb6adb385a",
   "metadata": {},
   "source": [
    "## Q10: Tic-Tac-Toe again\n",
    "\n",
    "Revisit the tic-tac-toe game you developed in the functions exercises but now write it as a class with methods to do each of the main steps.  "
   ]
  },
  {
   "cell_type": "code",
   "execution_count": 17,
   "id": "0be80a94-d83d-4246-b3aa-a390eadbfd2c",
   "metadata": {},
   "outputs": [],
   "source": [
    "BOARD = \"\"\"\n",
    " {s1:^3} | {s2:^3} | {s3:^3}\n",
    "-----+-----+-----\n",
    " {s4:^3} | {s5:^3} | {s6:^3}\n",
    "-----+-----+-----      123\n",
    " {s7:^3} | {s8:^3} | {s9:^3}       456\n",
    "                       789  \n",
    "\"\"\"\n",
    "\n",
    "class TicTacToe:\n",
    "    \n",
    "    def __init__(self):\n",
    "        self.play = {}\n",
    "        self.initialize_board()\n",
    "        \n",
    "    def play_game(self):\n",
    "        end_cond = False\n",
    "        self.show_board()\n",
    "        while not end_cond:\n",
    "            for idx, sign in zip((0, 1), (\"x\", \"o\")):\n",
    "                self.get_move(idx, sign)\n",
    "                clear_output()\n",
    "                self.show_board()\n",
    "            \n",
    "                end_cond = self.check_win() or self.check_full()\n",
    "                if end_cond:\n",
    "                    break\n",
    "\n",
    "    def get_move(self, n, xo):\n",
    "        valid_move = False\n",
    "        while not valid_move:\n",
    "            idx = input(\"player {}, enter your move (1-9)\".format(n))\n",
    "            if self.play[\"s{}\".format(idx)] == \"\":\n",
    "                valid_move = True\n",
    "            else:\n",
    "                print(\"invalid: {}\".format(self.play[\"s{}\".format(idx)]))\n",
    "                \n",
    "        self.play[\"s{}\".format(idx)] = xo\n",
    "        \n",
    "    def initialize_board(self):\n",
    "        for n in range(9):\n",
    "            self.play[\"s{}\".format(n+1)] = \"\"\n",
    "\n",
    "    def show_board(self):\n",
    "        \"\"\" display the playing board.  We take a dictionary with the current state of the board\n",
    "        We rely on the board string to be a global variable\"\"\"\n",
    "        print(BOARD.format(**self.play))\n",
    "\n",
    "    def check_full(self):\n",
    "        for i in self.play.values():\n",
    "            if i == \"\":\n",
    "                return False\n",
    "        print(\"Game ended without a winner!\")\n",
    "        return True\n",
    "\n",
    "    def check_win(self):\n",
    "        win_strings = (\n",
    "            [1, 2, 3], \n",
    "            [4, 5, 6], \n",
    "            [7, 8, 9], \n",
    "            [1, 4, 7], \n",
    "            [2, 5, 8], \n",
    "            [3, 6, 9], \n",
    "            [1, 5, 9], \n",
    "            [7, 5, 3])\n",
    "        \n",
    "        for win_opt in win_strings:\n",
    "            triple = [self.play[f\"s{i}\"] for i in win_opt]       \n",
    "            if triple.count(\"x\") == 3 or triple.count(\"o\") == 3:\n",
    "                print(\"Game won!\")\n",
    "                return True\n",
    "        return False"
   ]
  },
  {
   "cell_type": "code",
   "execution_count": 18,
   "id": "ba3d6968-668c-4131-92eb-589df5d590fa",
   "metadata": {},
   "outputs": [
    {
     "name": "stdout",
     "output_type": "stream",
     "text": [
      "\n",
      "  x  |  o  |  x \n",
      "-----+-----+-----\n",
      "  o  |  x  |  o \n",
      "-----+-----+-----      123\n",
      "  x  |     |           456\n",
      "                       789  \n",
      "\n",
      "Game won!\n"
     ]
    }
   ],
   "source": [
    "a = TicTacToe()\n",
    "a.play_game()"
   ]
  },
  {
   "cell_type": "code",
   "execution_count": null,
   "id": "19c3842c-47ad-431f-9cbf-081cd85a5017",
   "metadata": {},
   "outputs": [],
   "source": []
  }
 ],
 "metadata": {
  "kernelspec": {
   "display_name": "gerosa",
   "language": "python",
   "name": "gerosa"
  },
  "language_info": {
   "codemirror_mode": {
    "name": "ipython",
    "version": 3
   },
   "file_extension": ".py",
   "mimetype": "text/x-python",
   "name": "python",
   "nbconvert_exporter": "python",
   "pygments_lexer": "ipython3",
   "version": "3.11.5"
  }
 },
 "nbformat": 4,
 "nbformat_minor": 5
}
